{
 "cells": [
  {
   "cell_type": "markdown",
   "id": "5d27a94c",
   "metadata": {},
   "source": [
    "# Question 1"
   ]
  },
  {
   "cell_type": "code",
   "execution_count": 1,
   "id": "5f947d6d",
   "metadata": {},
   "outputs": [
    {
     "name": "stdout",
     "output_type": "stream",
     "text": [
      "The Zen of Python, by Tim Peters\n",
      "\n",
      "Beautiful is better than ugly.\n",
      "Explicit is better than implicit.\n",
      "Simple is better than complex.\n",
      "Complex is better than complicated.\n",
      "Flat is better than nested.\n",
      "Sparse is better than dense.\n",
      "Readability counts.\n",
      "Special cases aren't special enough to break the rules.\n",
      "Although practicality beats purity.\n",
      "Errors should never pass silently.\n",
      "Unless explicitly silenced.\n",
      "In the face of ambiguity, refuse the temptation to guess.\n",
      "There should be one-- and preferably only one --obvious way to do it.\n",
      "Although that way may not be obvious at first unless you're Dutch.\n",
      "Now is better than never.\n",
      "Although never is often better than *right* now.\n",
      "If the implementation is hard to explain, it's a bad idea.\n",
      "If the implementation is easy to explain, it may be a good idea.\n",
      "Namespaces are one honking great idea -- let's do more of those!\n"
     ]
    }
   ],
   "source": [
    "import this"
   ]
  },
  {
   "cell_type": "markdown",
   "id": "78a113ad",
   "metadata": {},
   "source": [
    "# Question 2\n",
    "\n",
    "Problem\n",
    "Given: Two positive integers a\n",
    " and b\n",
    ", each less than 1000.\n",
    "\n",
    "Return: The integer corresponding to the square of the hypotenuse of the right triangle whose legs have lengths a\n",
    " and b\n",
    ".\n",
    "\n",
    "Notes:\n",
    "\n",
    "The dataset changes every time you click \"Download dataset\".\n",
    "We check only your final answer to the downloaded dataset in the box below, not your code itself. If you would like to provide your code as well, you may use the upload tool. Please also note that the correct answer to this problem will not in general be 34; it is simply an example of what you should return in the specific case that the legs of the triangle have length 3 and 5."
   ]
  },
  {
   "cell_type": "code",
   "execution_count": 6,
   "id": "61153901",
   "metadata": {},
   "outputs": [],
   "source": [
    "def q2(a,b):\n",
    "    \n",
    "    c = a**2 + b**2\n",
    "    \n",
    "    return c"
   ]
  },
  {
   "cell_type": "code",
   "execution_count": 7,
   "id": "522e6475",
   "metadata": {},
   "outputs": [
    {
     "data": {
      "text/plain": [
       "34"
      ]
     },
     "execution_count": 7,
     "metadata": {},
     "output_type": "execute_result"
    }
   ],
   "source": [
    "q2(3,5)"
   ]
  },
  {
   "cell_type": "markdown",
   "id": "42733ae1",
   "metadata": {},
   "source": [
    "# Question 3\n",
    "\n",
    "Problem\n",
    "Given: A string s of length at most 200 letters and four integers a, b, c and d.\n",
    "\n",
    "Return: The slice of this string from indices a through b and c through d (with space in between), inclusively. In other words, we should include elements s[b] and s[d] in our slice."
   ]
  },
  {
   "cell_type": "code",
   "execution_count": 12,
   "id": "f72daf77",
   "metadata": {},
   "outputs": [],
   "source": [
    "s = \"EHneRzVDg1jSs0ZDQDnRgPXxq3Dbhj2pzOp6JhyOxyuraf23ta7kYoVrSQYBJjGxzjpClatiscutatusqWg8fq1wI2bFRAQSR9ammm4sIIKsQTHJunm9QZh8JnTIAoxE8aJTjdM8MSN3j6tpfLO1lYno5zACi1vpORO3RIdqVFIk4S7DIF3cfPaAAtYi\"\n",
    "a,b,c,d = 39, 44, 68, 79"
   ]
  },
  {
   "cell_type": "code",
   "execution_count": 14,
   "id": "af6f7090",
   "metadata": {},
   "outputs": [
    {
     "name": "stdout",
     "output_type": "stream",
     "text": [
      "Oxyura latiscutatus\n"
     ]
    }
   ],
   "source": [
    "print(s[a:b+1], s[c:d+1])"
   ]
  },
  {
   "cell_type": "markdown",
   "id": "cb7a7619",
   "metadata": {},
   "source": [
    "# Question 4\n",
    "\n",
    "Given: Two positive integers a and b (a<b<10000)\n",
    "\n",
    "Return: The sum of all odd integers from a through b, inclusively."
   ]
  },
  {
   "cell_type": "code",
   "execution_count": 20,
   "id": "5458e90e",
   "metadata": {},
   "outputs": [],
   "source": [
    "a = 4361 \n",
    "b = 9197"
   ]
  },
  {
   "cell_type": "code",
   "execution_count": 21,
   "id": "7a50a267",
   "metadata": {},
   "outputs": [],
   "source": [
    "sum = 0\n",
    "for i in range(a, b+1, 2):\n",
    "    sum += i"
   ]
  },
  {
   "cell_type": "code",
   "execution_count": 23,
   "id": "12de2d37",
   "metadata": {},
   "outputs": [
    {
     "name": "stdout",
     "output_type": "stream",
     "text": [
      "16398401\n"
     ]
    }
   ],
   "source": [
    "print(sum)"
   ]
  },
  {
   "cell_type": "markdown",
   "id": "f05e1a1d",
   "metadata": {},
   "source": [
    "# Question 5\n",
    "\n",
    "Given: A file containing at most 1000 lines.\n",
    "\n",
    "Return: A file containing all the even-numbered lines from the original file. Assume 1-based numbering of lines."
   ]
  },
  {
   "cell_type": "code",
   "execution_count": 76,
   "id": "9dacb074",
   "metadata": {},
   "outputs": [],
   "source": [
    "f = open('../../../Downloads/rosalind_ini5.txt', 'r')\n",
    "f = f.readlines()"
   ]
  },
  {
   "cell_type": "code",
   "execution_count": 77,
   "id": "d64cc16d",
   "metadata": {},
   "outputs": [],
   "source": [
    "evenLineNumbers = range(1, len(f)+1, 2)"
   ]
  },
  {
   "cell_type": "code",
   "execution_count": 78,
   "id": "57ace69a",
   "metadata": {},
   "outputs": [],
   "source": [
    "evenLines = []\n",
    "for i in evenLineNumbers:\n",
    "    evenLines.append(f[i].strip())"
   ]
  },
  {
   "cell_type": "code",
   "execution_count": 79,
   "id": "caeee25a",
   "metadata": {},
   "outputs": [
    {
     "name": "stdout",
     "output_type": "stream",
     "text": [
      "Some things in life are bad, they can really make you mad\n",
      "Other things just make you swear and curse\n",
      "When you're chewing on life's gristle, don't grumble give a whistle\n",
      "This will help things turn out for the best\n",
      "Always look on the bright side of life\n",
      "Always look on the right side of life\n",
      "If life seems jolly rotten, there's something you've forgotten\n",
      "And that's to laugh and smile and dance and sing\n",
      "When you're feeling in the dumps, don't be silly, chumps\n",
      "Just purse your lips and whistle, that's the thing\n",
      "So, always look on the bright side of death\n",
      "Just before you draw your terminal breath\n",
      "Life's a counterfeit and when you look at it\n",
      "Life's a laugh and death's the joke, it's true\n",
      "You see, it's all a show, keep them laughing as you go\n",
      "Just remember the last laugh is on you\n",
      "Always look on the bright side of life\n",
      "And always look on the right side of life\n",
      "Always look on the bright side of life\n",
      "And always look on the right side of life\n"
     ]
    }
   ],
   "source": [
    "for i in evenLines:\n",
    "    print(i)"
   ]
  },
  {
   "cell_type": "markdown",
   "id": "a7279bda",
   "metadata": {},
   "source": [
    "# Question 6\n",
    "\n",
    "Given: A string s of length at most 10000 letters.\n",
    "\n",
    "Return: The number of occurrences of each word in s, where words are separated by spaces. Words are case-sensitive, and the lines in the output can be in any order."
   ]
  },
  {
   "cell_type": "code",
   "execution_count": 69,
   "id": "75d0598b",
   "metadata": {},
   "outputs": [],
   "source": [
    "s = 'When I find myself in times of trouble Mother Mary comes to me Speaking words of wisdom let it be And in my hour of darkness she is standing right in front of me Speaking words of wisdom let it be Let it be let it be let it be let it be Whisper words of wisdom let it be And when the broken hearted people living in the world agree There will be an answer let it be For though they may be parted there is still a chance that they will see There will be an answer let it be Let it be let it be let it be let it be There will be an answer let it be Let it be let it be let it be let it be Whisper words of wisdom let it be Let it be let it be let it be let it be Whisper words of wisdom let it be And when the night is cloudy there is still a light that shines on me Shine until tomorrow let it be I wake up to the sound of music Mother Mary comes to me Speaking words of wisdom let it be Let it be let it be let it be yeah let it be There will be an answer let it be Let it be let it be let it be yeah let it be Whisper words of wisdom let it be'"
   ]
  },
  {
   "cell_type": "code",
   "execution_count": 70,
   "id": "97fa9999",
   "metadata": {},
   "outputs": [],
   "source": [
    "words = s.split()\n",
    "word_counts = {}\n",
    "\n",
    "for word in words:\n",
    "    if word in word_counts:\n",
    "        word_counts[word] += 1\n",
    "    else:\n",
    "        word_counts[word] = 1"
   ]
  },
  {
   "cell_type": "code",
   "execution_count": 75,
   "id": "e1cc3ef0",
   "metadata": {},
   "outputs": [
    {
     "name": "stdout",
     "output_type": "stream",
     "text": [
      "that 2\n",
      "of 11\n",
      "on 1\n",
      "darkness 1\n",
      "right 1\n",
      "may 1\n",
      "world 1\n",
      "will 5\n",
      "trouble 1\n",
      "wisdom 7\n",
      "When 1\n",
      "it 36\n",
      "front 1\n",
      "Let 6\n",
      "Mother 2\n",
      "there 2\n",
      "still 2\n",
      "There 4\n",
      "when 2\n",
      "my 1\n",
      "comes 2\n",
      "times 1\n",
      "sound 1\n",
      "the 4\n",
      "is 4\n",
      "tomorrow 1\n",
      "until 1\n",
      "Speaking 3\n",
      "though 1\n",
      "she 1\n",
      "shines 1\n",
      "standing 1\n",
      "broken 1\n",
      "living 1\n",
      "chance 1\n",
      "For 1\n",
      "night 1\n",
      "hearted 1\n",
      "cloudy 1\n",
      "myself 1\n",
      "in 4\n",
      "find 1\n",
      "people 1\n",
      "be 41\n",
      "wake 1\n",
      "words 7\n",
      "up 1\n",
      "let 30\n",
      "answer 4\n",
      "I 2\n",
      "they 2\n",
      "Whisper 4\n",
      "agree 1\n",
      "Mary 2\n",
      "Shine 1\n",
      "yeah 2\n",
      "music 1\n",
      "a 2\n",
      "light 1\n",
      "see 1\n",
      "hour 1\n",
      "to 3\n",
      "parted 1\n",
      "And 3\n",
      "an 4\n",
      "me 4\n"
     ]
    }
   ],
   "source": [
    "for word in set(words):\n",
    "    print(word, word_counts[word])"
   ]
  }
 ],
 "metadata": {
  "kernelspec": {
   "display_name": "Python 3 (ipykernel)",
   "language": "python",
   "name": "python3"
  },
  "language_info": {
   "codemirror_mode": {
    "name": "ipython",
    "version": 3
   },
   "file_extension": ".py",
   "mimetype": "text/x-python",
   "name": "python",
   "nbconvert_exporter": "python",
   "pygments_lexer": "ipython3",
   "version": "3.11.4"
  }
 },
 "nbformat": 4,
 "nbformat_minor": 5
}
